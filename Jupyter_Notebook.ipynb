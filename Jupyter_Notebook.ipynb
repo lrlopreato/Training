{
 "cells": [
  {
   "cell_type": "markdown",
   "metadata": {},
   "source": [
    "<center>\n",
    "    <img src=\"https://cf-courses-data.s3.us.cloud-object-storage.appdomain.cloud/IBMDeveloperSkillsNetwork-DS0105EN-SkillsNetwork/labs/Module2/images/SN_web_lightmode.png\" width=\"300\" alt=\"cognitiveclass.ai logo\">\n",
    "</center>\n"
   ]
  },
  {
   "cell_type": "markdown",
   "metadata": {},
   "source": [
    "#### Add your code below following the instructions given in the course\n"
   ]
  },
  {
   "cell_type": "markdown",
   "metadata": {},
   "source": [
    "<h1> My projeto notebook (Exercise 2)<h1>"
   ]
  },
  {
   "cell_type": "markdown",
   "metadata": {},
   "source": [
    "### This is the introdutory markdown for my project (Exercise 3)"
   ]
  },
  {
   "cell_type": "markdown",
   "metadata": {},
   "source": [
    "<ol> Data Science Languages (Exercise 4)\n",
    "<li> Python </li>\n",
    "    <li> R </li>\n",
    "    <li> Scala</li>\n",
    "    <li> SQL </0l>"
   ]
  },
  {
   "cell_type": "markdown",
   "metadata": {},
   "source": [
    "<ol> Data Science Libraries (Exercise 5)\n",
    "<li> Tensorflow </li>\n",
    "    <li> Scikit Learn </li>\n",
    "    <li> Keras</li>\n",
    "    <li> Plotly </0l>"
   ]
  },
  {
   "cell_type": "markdown",
   "metadata": {},
   "source": [
    "|language|tool | \n",
    "|-----|-------| \n",
    "|python|Pandas| \n",
    "|python|Matplotlib| \n",
    "|python|Numpy|\n",
    "| ---|kmine|\n",
    "| ---|Weka|\n",
    "| ---|TensorFlow|\n",
    "\n",
    "\n",
    "(Data science tool (exercise 6)"
   ]
  },
  {
   "cell_type": "markdown",
   "metadata": {},
   "source": [
    "### This is an example of arithmetic expression calculation (exercise 7)"
   ]
  },
  {
   "cell_type": "code",
   "execution_count": 4,
   "metadata": {},
   "outputs": [
    {
     "name": "stdout",
     "output_type": "stream",
     "text": [
      "y value is: 5\n"
     ]
    }
   ],
   "source": [
    "# exercise 8\n",
    "x=2\n",
    "y=2*1+3\n",
    "print(\"y value is:\", y)"
   ]
  },
  {
   "cell_type": "code",
   "execution_count": 7,
   "metadata": {},
   "outputs": [
    {
     "name": "stdout",
     "output_type": "stream",
     "text": [
      "convert 36 minutes in hours: Answer is 0.6 hours\n"
     ]
    }
   ],
   "source": [
    "#exercise 9\n",
    "minutes=36\n",
    "HH=minutes/60\n",
    "print(\"convert\", minutes,\"minutes in hours: Answer is\", HH, \"hours\")\n"
   ]
  },
  {
   "cell_type": "markdown",
   "metadata": {},
   "source": [
    "The objective os this markdown is to present some objectives (exercise 10):\n",
    "- present your exercise\n",
    "- publish at github\n"
   ]
  },
  {
   "cell_type": "markdown",
   "metadata": {},
   "source": [
    "### Autor name: Luiz Lopreato"
   ]
  },
  {
   "cell_type": "code",
   "execution_count": null,
   "metadata": {},
   "outputs": [],
   "source": []
  }
 ],
 "metadata": {
  "kernelspec": {
   "display_name": "Python 3 (ipykernel)",
   "language": "python",
   "name": "python3"
  },
  "language_info": {
   "codemirror_mode": {
    "name": "ipython",
    "version": 3
   },
   "file_extension": ".py",
   "mimetype": "text/x-python",
   "name": "python",
   "nbconvert_exporter": "python",
   "pygments_lexer": "ipython3",
   "version": "3.9.13"
  }
 },
 "nbformat": 4,
 "nbformat_minor": 4
}
